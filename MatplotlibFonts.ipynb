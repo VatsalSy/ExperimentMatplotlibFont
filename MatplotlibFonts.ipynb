{
 "cells": [
  {
   "cell_type": "markdown",
   "metadata": {},
   "source": [
    "## Font rendering in Matplotlib\n",
    "\n",
    "#today: 2022-09-05 </br>\n",
    "#version: 1.0 </br>\n",
    "#tags: matplotlib, fonts, rendering </br>"
   ]
  },
  {
   "cell_type": "code",
   "execution_count": 1,
   "metadata": {},
   "outputs": [],
   "source": [
    "# Premble\n",
    "import pandas as pd\n",
    "import numpy as np\n",
    "\n",
    "import matplotlib.font_manager as font_manager\n",
    "import matplotlib.pyplot as plt\n",
    "\n",
    "import matplotlib as mpl"
   ]
  },
  {
   "cell_type": "code",
   "execution_count": 2,
   "metadata": {},
   "outputs": [],
   "source": [
    "# import data from .dat file\n",
    "def import_data(file_name):\n",
    "    data = pd.read_csv(file_name, sep='\\t', header=None)\n",
    "    return data"
   ]
  },
  {
   "cell_type": "code",
   "execution_count": 3,
   "metadata": {},
   "outputs": [],
   "source": [
    "# Function to plot data and save as pdf\n",
    "def plot_data(df, file_name):\n",
    "  # plot data\n",
    "  fig, ax = plt.subplots()\n",
    "  # figure size in inches\n",
    "  fig.set_size_inches(5, 5)\n",
    "  ax.plot(df[0], df[1], label='$\\Delta E_s$')\n",
    "  ax.plot(df[0], df[2], label='$\\Delta E_s + E_k$')\n",
    "\n",
    "  # show legend\n",
    "  ax.legend()\n",
    "\n",
    "  # axis equal \n",
    "  ax.set_aspect('equal')\n",
    "  # limit x and y axes 0 to 1\n",
    "  ax.set_xlim(0, 1)\n",
    "  ax.set_ylim(0, 1)\n",
    "  # set axis labels\n",
    "  ax.set_xlabel('$t$')\n",
    "  ax.set_ylabel('$E_i/E_0$')\n",
    "  plt.savefig(file_name, bbox_inches='tight')"
   ]
  },
  {
   "cell_type": "markdown",
   "metadata": {},
   "source": [
    "## Method 1: \n",
    "\n",
    "* Use the `matplotlib.font_manager` module to use a custom font -- here CMU Serif.\n",
    "* mathtext.fontset is 'cm'\n",
    "* pdf.fonttype is 42 to get TrueType fonts embedded in the PDF. This allows editing the text in Adobe Illustrator or other PDF editors."
   ]
  },
  {
   "cell_type": "code",
   "execution_count": 4,
   "metadata": {},
   "outputs": [],
   "source": [
    "mpl.rcParams['font.family'] = 'serif'\n",
    "cmfont = font_manager.FontProperties(fname='matplotlibFonts/cmunrm.ttf')\n",
    "# print(cmfont.get_name())\n",
    "# print(cmfont)\n",
    "\n",
    "mpl.rcParams['font.serif'] = cmfont.get_name()\n",
    "mpl.rcParams['mathtext.fontset'] = 'cm'\n",
    "mpl.rcParams['axes.unicode_minus'] = False\n",
    "\n",
    "# FixMe: using 42 to render good font in pdf gives strange warning related to TeX not being the subset. Using tex as a renderer doesn't embed the right font. \n",
    "mpl.rcParams['pdf.fonttype'] = 42 # 42 is the answer to everything.\n",
    "\n",
    "AxesLabel, TickLabel = [12, 12]\n",
    "plt.rcParams.update({\n",
    "    'font.size' : TickLabel,                   # Set font size to 11pt\n",
    "    'axes.labelsize': AxesLabel,               # -> axis labels\n",
    "    'legend.fontsize': AxesLabel,              # -> legends\n",
    "    'xtick.labelsize': TickLabel,              # -> x-axis tick labels\n",
    "    'ytick.labelsize': TickLabel,              # -> y-axis tick labels\n",
    "})\n"
   ]
  },
  {
   "cell_type": "code",
   "execution_count": 5,
   "metadata": {},
   "outputs": [
    {
     "name": "stderr",
     "output_type": "stream",
     "text": [
      "TeX  NOT subset; don't know how to subset; dropped\n",
      "'created' timestamp seems very low; regarding as unix timestamp\n",
      "'modified' timestamp seems very low; regarding as unix timestamp\n",
      "'created' timestamp seems very low; regarding as unix timestamp\n",
      "'modified' timestamp seems very low; regarding as unix timestamp\n"
     ]
    },
    {
     "data": {
      "image/png": "[encoded data removed]",
      "text/plain": [
       "<Figure size 360x360 with 1 Axes>"
      ]
     },
     "metadata": {
      "needs_background": "light"
     },
     "output_type": "display_data"
    }
   ],
   "source": [
    "df = import_data('Test.dat')\n",
    "# print(df.head())\n",
    "# Plotting the data in the dataframe df and saving the plot as a pdf file called Test.pdf\n",
    "plot_data(df, 'Test_CMUSerif42_v0.pdf')"
   ]
  },
  {
   "cell_type": "markdown",
   "metadata": {},
   "source": [
    "The code above works nicely. The only issue is the annoying warning message that you see above: \n",
    "TeX  NOT subset; don't know how to subset; dropped\n",
    "'created' timestamp seems very low; regarding as unix timestamp\n",
    "'modified' timestamp seems very low; regarding as unix timestamp\n",
    "'created' timestamp seems very low; regarding as unix timestamp\n",
    "'modified' timestamp seems very low; regarding as unix timestamp\n",
    "\n",
    "If we get rid of these messages, we can use the above code. "
   ]
  },
  {
   "cell_type": "markdown",
   "metadata": {},
   "source": [
    "## Method 2:\n",
    "\n",
    "One way many people use LaTeX rendering is by using text.useTex: True in the matplotlibrc file. This is a global setting, and it will affect all the plots you make."
   ]
  },
  {
   "cell_type": "code",
   "execution_count": 6,
   "metadata": {},
   "outputs": [],
   "source": [
    "mpl.rcParams['text.usetex'] = True # has issues editing with Illustrator. \n",
    "mpl.rcParams['font.family'] = 'serif'\n",
    "cmfont = font_manager.FontProperties(fname='matplotlibFonts/cmunrm.ttf')\n",
    "# print(cmfont.get_name())\n",
    "# print(cmfont)\n",
    "\n",
    "mpl.rcParams['font.serif'] = cmfont.get_name()\n",
    "mpl.rcParams['mathtext.fontset'] = 'cm'\n",
    "mpl.rcParams['axes.unicode_minus'] = False\n",
    "\n",
    "# FixMe: using 42 to render good font in pdf gives strange warning related to TeX not being the subset. Using tex as a renderer doesn't embed the right font. \n",
    "mpl.rcParams['pdf.fonttype'] = 42 # 42 is the answer to everything.\n",
    "mpl.rcParams['ps.fonttype'] = 42 \n",
    "\n",
    "AxesLabel, TickLabel = [12, 12]\n",
    "plt.rcParams.update({\n",
    "    'font.size' : TickLabel,                   # Set font size to 11pt\n",
    "    'axes.labelsize': AxesLabel,               # -> axis labels\n",
    "    'legend.fontsize': AxesLabel,              # -> legends\n",
    "    'xtick.labelsize': TickLabel,              # -> x-axis tick labels\n",
    "    'ytick.labelsize': TickLabel,              # -> y-axis tick labels\n",
    "})"
   ]
  },
  {
   "cell_type": "code",
   "execution_count": 7,
   "metadata": {},
   "outputs": [
    {
     "data": {
      "image/png": "[encoded data removed]",
      "text/plain": [
       "<Figure size 360x360 with 1 Axes>"
      ]
     },
     "metadata": {
      "needs_background": "light"
     },
     "output_type": "display_data"
    }
   ],
   "source": [
    "df = import_data('Test.dat')\n",
    "# print(df.head())\n",
    "# Plotting the data in the dataframe df and saving the plot as a pdf file called Test.pdf\n",
    "plot_data(df, 'Test_useTeX_v0.pdf')"
   ]
  },
  {
   "cell_type": "markdown",
   "metadata": {},
   "source": [
    "Works well. No error message. Unfortunately, this has two issues: \n",
    "\n",
    "* It embeds CMMI fonts in the PDF, which are not editable in Adobe Illustrator -- we can convert these into CMU Serif, but it is a pain as it needs to be done manually for each font.\n",
    "* usetex does not group terms in math mode. For example, if you have a term like $a^2 + b^2 = c^2$, it will not group the terms in math mode. This is a problem if you want to change the font of the terms in math mode. Or, instead of 1.0 it renders as {1}{.}{0} which is again annoying. "
   ]
  },
  {
   "cell_type": "markdown",
   "metadata": {},
   "source": [
    "## Method 3:\n",
    "\n",
    "* Same as Method 1 but kill pdf.fonttype 42. This will use Type 3 fonts, which are not editable in Adobe Illustrator.\n"
   ]
  },
  {
   "cell_type": "code",
   "execution_count": 10,
   "metadata": {},
   "outputs": [],
   "source": [
    "mpl.rcParams['text.usetex'] = False # has issues editing with Illustrator. \n",
    "mpl.rcParams['font.family'] = 'serif'\n",
    "cmfont = font_manager.FontProperties(fname='matplotlibFonts/cmunrm.ttf')\n",
    "# print(cmfont.get_name())\n",
    "# print(cmfont)\n",
    "\n",
    "mpl.rcParams['font.serif'] = cmfont.get_name()\n",
    "mpl.rcParams['mathtext.fontset'] = 'cm'\n",
    "mpl.rcParams['axes.unicode_minus'] = False\n",
    "\n",
    "# FixMe: using 42 to render good font in pdf gives strange warning related to TeX not being the subset. Using tex as a renderer doesn't embed the right font. \n",
    "mpl.rcParams['pdf.fonttype'] = 3 # 42 is the answer to everything.\n",
    "\n",
    "AxesLabel, TickLabel = [12, 12]\n",
    "plt.rcParams.update({\n",
    "    'font.size' : TickLabel,                   # Set font size to 11pt\n",
    "    'axes.labelsize': AxesLabel,               # -> axis labels\n",
    "    'legend.fontsize': AxesLabel,              # -> legends\n",
    "    'xtick.labelsize': TickLabel,              # -> x-axis tick labels\n",
    "    'ytick.labelsize': TickLabel,              # -> y-axis tick labels\n",
    "})\n"
   ]
  },
  {
   "cell_type": "code",
   "execution_count": 11,
   "metadata": {},
   "outputs": [
    {
     "data": {
      "image/png": "[encoded data removed]",
      "text/plain": [
       "<Figure size 360x360 with 1 Axes>"
      ]
     },
     "metadata": {
      "needs_background": "light"
     },
     "output_type": "display_data"
    }
   ],
   "source": [
    "df = import_data('Test.dat')\n",
    "# print(df.head())\n",
    "# Plotting the data in the dataframe df and saving the plot as a pdf file called Test.pdf\n",
    "plot_data(df, 'Test_CMUSerif_v0.pdf')"
   ]
  },
  {
   "cell_type": "markdown",
   "metadata": {},
   "source": [
    "That worked without warning. It gives CMU Serif fonts as well. \n",
    "\n",
    "There is just one problem: the fonts are not editable in Adobe Illustrator. :("
   ]
  }
 ],
 "metadata": {
  "kernelspec": {
   "display_name": "Python 3.9.12 ('base')",
   "language": "python",
   "name": "python3"
  },
  "language_info": {
   "codemirror_mode": {
    "name": "ipython",
    "version": 3
   },
   "file_extension": ".py",
   "mimetype": "text/x-python",
   "name": "python",
   "nbconvert_exporter": "python",
   "pygments_lexer": "ipython3",
   "version": "3.9.12"
  },
  "orig_nbformat": 4,
  "vscode": {
   "interpreter": {
    "hash": "12c5dc8da70b12850406c4bfe50e9e6f7d6c05df2bb87907a37cbf56daff5adb"
   }
  }
 },
 "nbformat": 4,
 "nbformat_minor": 2
}
